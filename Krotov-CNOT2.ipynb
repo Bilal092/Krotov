{
 "cells": [
  {
   "cell_type": "code",
   "execution_count": 53,
   "metadata": {},
   "outputs": [],
   "source": [
    "# imporing required Liberaries\n",
    "import matplotlib\n",
    "import scipy.stats\n",
    "import scipy.linalg\n",
    "import scipy.sparse.linalg\n",
    "import numpy as np\n",
    "import matplotlib.pyplot as plt\n",
    "import math\n",
    "import numpy.random as rnd\n",
    "import scipy.linalg as LA\n",
    "from scipy.integrate import ode\n"
   ]
  },
  {
   "cell_type": "code",
   "execution_count": 56,
   "metadata": {},
   "outputs": [],
   "source": [
    "# Krotov Class to obatain Quantum CNOT gates\n",
    "class Krotov:\n",
    "    def __init__(self,J,lambda_1,ti,tf,steps):\n",
    "        self.J = float(J)\n",
    "        self.lambda_1 = float(lambda_1)\n",
    "        self.ti = ti\n",
    "        self.tf = tf\n",
    "        self.steps = steps\n",
    "\n",
    "        self.dt = (self.tf - self.ti) /self.steps\n",
    "        self.sX = np.array([[0, 1], [1, 0]], dtype = 'complex')\n",
    "        self.sY = np.array([[0, -1j], [1j, 0]], dtype = 'complex')\n",
    "        self.sZ = np.array([[1, 0], [0, -1]], dtype = 'complex')\n",
    "        self.I = np.array(np.identity(2), dtype = 'complex')\n",
    "\n",
    "        self.sZZ = np.kron(self.sZ, self.sZ)\n",
    "        self.sIY = np.kron(self.I, self.sY)\n",
    "        self.sYI = np.kron(self.sY, self.I)\n",
    "        self.sIZ = np.kron(self.I, self.sZ)\n",
    "        self.sZI = np.kron(self.sZ, self.I)\n",
    "\n",
    "        self.delta1 = 1\n",
    "        self.alpha1 = 0.1\n",
    "        self.delta2 = 0.1\n",
    "        self.alpha2 = 0.01\n",
    "\n",
    "        rnd.seed(1)\n",
    "\n",
    "        # Controls\n",
    "        self.EYI = rnd.rand(self.steps)-0.5\n",
    "        #self.EYI_tilde = self.EYI\n",
    "        self.EYI_tilde = np.zeros((self.steps,))\n",
    "        self.EIY = rnd.rand(self.steps)-0.5\n",
    "        #self.EIY_tilde = self.EIY\n",
    "        self.EIY_tilde = np.zeros((self.steps,))\n",
    "        self.EZI = rnd.rand(self.steps)-0.5\n",
    "\n",
    "        self.Ui = np.identity(4, dtype = 'complex')\n",
    "        self.UT = np.exp(1j * np.pi/4)*np.array([[1, 0, 0, 0],[0, 1, 0, 0],[0, 0, 0, 1],[0, 0, 1, 0]], dtype = 'complex')\n",
    "\n",
    "        self.U = np.zeros([self.steps, 4, 4], dtype = 'complex')\n",
    "        self.B = np.zeros([self.steps, 4, 4], dtype = 'complex')\n",
    "\n",
    "        self.U[0] = np.identity(4, dtype = 'complex')\n",
    "        self.B[steps - 1] = self.UT\n",
    "\n",
    "        self. Ho = self.J/4 * self.sZZ + 100 * self.sIZ + 120 * self.sIZ\n",
    "\n",
    "    def Hc(self, t_index):\n",
    "        t = t_index\n",
    "        return ( self.EIY[t] * self.sIY )\n",
    "\n",
    "    def Hc_tilde(self, t_index):\n",
    "        t = t_index\n",
    "        return (self.EIY_tilde[t] * self.sIY)\n",
    "\n",
    "    def H(self, t_index):\n",
    "        t = t_index\n",
    "        return (self.Ho + self.Hc(t))\n",
    "\n",
    "    def H_tilde(self, t_index):\n",
    "        t = t_index\n",
    "        return (self. Ho + self.Hc_tilde(t))\n",
    "\n",
    "    def update_U (self, t_index):\n",
    "        t = t_index\n",
    "        self.U[t+1] = np.dot(LA.expm(-1j * self.H(t) * self.dt), self.U[t])\n",
    "\n",
    "    def update_B (self, t_index):\n",
    "        t = t_index\n",
    "        self.B[t-1] = np.dot( self.B[t], LA.expm(-1j * self.H_tilde(t) * self.dt))\n",
    "\n",
    "    def update_E(self, t_index):\n",
    "        t=t_index\n",
    "\n",
    "        EIYpart1 = (1-self.delta2) * self.EIY_tilde[t-1]\n",
    "        EIYpart2 = -self.delta2 * self.lambda_1 * np.imag( np.trace(np.dot(self.B[t-1], np.dot( self.sIY, self.U[t]) ) ) )/ self.alpha2\n",
    "        self.EIY[t] = -(EIYpart1 + EIYpart2)\n",
    "\n",
    "\n",
    "    def update_E_tilde(self,t_index):\n",
    "        t = t_index\n",
    "        EIYpart1 = (1-self.delta2) * self.EIY[t]\n",
    "        EIYpart2 = -self.delta2 * self.lambda_1 * np.imag( np.trace(np.dot(self.B[t], np.dot( self.sIY, self.U[t]) ) ) )/ self.alpha2\n",
    "        self.EIY_tilde[t] = -(EIYpart1 + EIYpart2)\n",
    "\n",
    "    def evolution_U(self,string='not initial'):\n",
    "        if string == 'initial':\n",
    "            for t in range(0,self.steps-1):\n",
    "                self.update_U(t)\n",
    "        else:\n",
    "            for t in range(0,self.steps-1):\n",
    "                self.update_E(t)\n",
    "                self.update_U(t)\n",
    "            t = self.steps-1\n",
    "            self.update_E(t)\n",
    "\n",
    "    def evolution_B(self):\n",
    "        for t in range(self.steps-1,0,-1):\n",
    "            self.update_E_tilde(t)\n",
    "            self.update_B(t)\n",
    "        t = 0\n",
    "        self.update_E_tilde(t)\n",
    "\n",
    "    def O(self,step):\n",
    "        t = step\n",
    "        return( np.dot(self.UT.conj().T, self.U[t - 1] ))\n",
    "        # Returns <<PSI|O|PSI>>>\n",
    "    def Overlap(self, t_index ):\n",
    "        t = t_index\n",
    "        return( np.abs(np.trace(self.O(t))))\n",
    "\n",
    "    def distance(self,t_index):\n",
    "        t= t_index\n",
    "        return(LA.norm(self.UT - self.U[t-1], 'fro'))\n",
    "\n",
    "    def Run_Krotov(self, num_iter):\n",
    "        T = self.steps-1\n",
    "        self.evolution_U('initial')\n",
    "\n",
    "        self.overlap = []\n",
    "        self.dis = []\n",
    "\n",
    "        for i in range(0,num_iter):\n",
    "            print (\"Iteration : \", i)\n",
    "            self.B[T] = self.O(T-1)\n",
    "            self.evolution_B()\n",
    "            self.evolution_U()\n",
    "            self.overlap.append(self.Overlap(T))\n",
    "            self.dis.append(self.distance(T))"
   ]
  },
  {
   "cell_type": "code",
   "execution_count": 57,
   "metadata": {},
   "outputs": [
    {
     "name": "stdout",
     "output_type": "stream",
     "text": [
      "Iteration :  0\n",
      "Iteration :  1\n",
      "Iteration :  2\n",
      "Iteration :  3\n",
      "Iteration :  4\n",
      "Iteration :  5\n",
      "Iteration :  6\n",
      "Iteration :  7\n",
      "Iteration :  8\n",
      "Iteration :  9\n",
      "Iteration :  10\n",
      "Iteration :  11\n",
      "Iteration :  12\n",
      "Iteration :  13\n",
      "Iteration :  14\n",
      "Iteration :  15\n",
      "Iteration :  16\n",
      "Iteration :  17\n",
      "Iteration :  18\n",
      "Iteration :  19\n"
     ]
    },
    {
     "data": {
      "image/png": "[encoded data removed]",
      "text/plain": [
       "<matplotlib.figure.Figure at 0x27274d80668>"
      ]
     },
     "metadata": {},
     "output_type": "display_data"
    },
    {
     "data": {
      "image/png": "[encoded data removed]",
      "text/plain": [
       "<matplotlib.figure.Figure at 0x27274cce4a8>"
      ]
     },
     "metadata": {},
     "output_type": "display_data"
    }
   ],
   "source": [
    "if __name__ == '__main__':\n",
    "    # INTITIALIZE : J,lambda_1,ti,tf,steps\n",
    "\n",
    "    k = Krotov(0.1, 1 ,0, 7,500)\n",
    "    k.Run_Krotov(20)\n",
    "    s = Krotov(0.1, 1 ,0, 7,500)\n",
    "    s.Run_Krotov(0)\n",
    "\n",
    "    plt.figure(1)\n",
    "    plt.title('Overlap Vs Iteration')\n",
    "    plt.ylabel('Overlap')\n",
    "    plt.xlabel('Iteration')\n",
    "    plt.plot(np.abs(k.overlap))\n",
    "    plt.show()\n",
    "    plt.figure(2)\n",
    "    plt.plot(s.dis)\n",
    "    plt.show()"
   ]
  },
  {
   "cell_type": "code",
   "execution_count": 52,
   "metadata": {},
   "outputs": [
    {
     "data": {
      "text/plain": [
       "[]"
      ]
     },
     "execution_count": 52,
     "metadata": {},
     "output_type": "execute_result"
    }
   ],
   "source": [
    "s.dis"
   ]
  },
  {
   "cell_type": "code",
   "execution_count": null,
   "metadata": {},
   "outputs": [],
   "source": []
  }
 ],
 "metadata": {
  "kernelspec": {
   "display_name": "Python 3",
   "language": "python",
   "name": "python3"
  },
  "language_info": {
   "codemirror_mode": {
    "name": "ipython",
    "version": 3
   },
   "file_extension": ".py",
   "mimetype": "text/x-python",
   "name": "python",
   "nbconvert_exporter": "python",
   "pygments_lexer": "ipython3",
   "version": "3.6.4"
  }
 },
 "nbformat": 4,
 "nbformat_minor": 2
}
